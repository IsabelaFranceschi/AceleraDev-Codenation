{
 "cells": [
  {
   "cell_type": "markdown",
   "metadata": {},
   "source": [
    "# Descubra quem fez o ENEM 2016 apenas para treino"
   ]
  },
  {
   "cell_type": "markdown",
   "metadata": {},
   "source": [
    "![title](photo.jpeg)"
   ]
  },
  {
   "cell_type": "markdown",
   "metadata": {},
   "source": [
    "### Definição do problema\n",
    "\n",
    "O que é um aluno treineiro?\n",
    "\n",
    "Os estudantes que ainda não completaram 18 anos ou que tem interesse em fazer a prova do ENEM apenas para testar os seus conhecimentos tem a opção de se inscreverem como \"treineiro\". Aqui o desafio é descobrir quais alunos se inscreveram para essa condição no ENEM 2016."
   ]
  },
  {
   "cell_type": "markdown",
   "metadata": {},
   "source": [
    "### Análise Exploratória"
   ]
  },
  {
   "cell_type": "code",
   "execution_count": 1,
   "metadata": {},
   "outputs": [],
   "source": [
    "# Importação das bibliotecas:\n",
    "\n",
    "# Manipulação de dados.\n",
    "import pandas as pd\n",
    "import numpy as np\n",
    "\n",
    "# Visualização.\n",
    "import matplotlib.pyplot as plt\n",
    "import seaborn as sns\n",
    "\n",
    "# Processamento de dados.\n",
    "from sklearn.preprocessing import OneHotEncoder\n",
    "from imblearn.over_sampling import SMOTE\n",
    "\n",
    "# Machine Learning.\n",
    "from sklearn.model_selection import train_test_split\n",
    "from sklearn.ensemble import RandomForestClassifier\n",
    "\n",
    "# Métricas de avaliação do modelo preditivo.\n",
    "from sklearn.model_selection import cross_val_score\n",
    "from sklearn.metrics import accuracy_score\n",
    "\n",
    "# Ignorar mensagens de aviso.\n",
    "import warnings \n",
    "warnings.filterwarnings(\"ignore\")"
   ]
  },
  {
   "cell_type": "code",
   "execution_count": 2,
   "metadata": {},
   "outputs": [],
   "source": [
    "# Leitura dos arquivos e instanciar os datasets:\n",
    "df_train = pd.read_csv('train.csv', sep=\",\" , encoding=\"UTF8\")\n",
    "df_test = pd.read_csv('test.csv', sep=\",\" , encoding=\"UTF8\")"
   ]
  },
  {
   "cell_type": "code",
   "execution_count": 3,
   "metadata": {},
   "outputs": [
    {
     "name": "stdout",
     "output_type": "stream",
     "text": [
      "Dimesão do dataset de treino:\n",
      "Linhas: 13730\n",
      "Colunas: 167\n",
      "Dimesão do dataset de teste:\n",
      "Linhas: 4570\n",
      "Colunas: 43\n"
     ]
    }
   ],
   "source": [
    "# Dimensões dos datasets:\n",
    "print(\"Dimesão do dataset de treino:\\nLinhas: {}\\nColunas: {}\".format(df_train.shape[0], df_train.shape[1]))\n",
    "print(\"Dimesão do dataset de teste:\\nLinhas: {}\\nColunas: {}\".format(df_test.shape[0], df_test.shape[1]))"
   ]
  },
  {
   "cell_type": "code",
   "execution_count": 4,
   "metadata": {},
   "outputs": [
    {
     "data": {
      "text/html": [
       "<div>\n",
       "<style scoped>\n",
       "    .dataframe tbody tr th:only-of-type {\n",
       "        vertical-align: middle;\n",
       "    }\n",
       "\n",
       "    .dataframe tbody tr th {\n",
       "        vertical-align: top;\n",
       "    }\n",
       "\n",
       "    .dataframe thead th {\n",
       "        text-align: right;\n",
       "    }\n",
       "</style>\n",
       "<table border=\"1\" class=\"dataframe\">\n",
       "  <thead>\n",
       "    <tr style=\"text-align: right;\">\n",
       "      <th></th>\n",
       "      <th>Unnamed: 0</th>\n",
       "      <th>NU_INSCRICAO</th>\n",
       "      <th>NU_ANO</th>\n",
       "      <th>CO_MUNICIPIO_RESIDENCIA</th>\n",
       "      <th>NO_MUNICIPIO_RESIDENCIA</th>\n",
       "      <th>CO_UF_RESIDENCIA</th>\n",
       "      <th>SG_UF_RESIDENCIA</th>\n",
       "      <th>NU_IDADE</th>\n",
       "      <th>TP_SEXO</th>\n",
       "      <th>TP_ESTADO_CIVIL</th>\n",
       "      <th>...</th>\n",
       "      <th>Q041</th>\n",
       "      <th>Q042</th>\n",
       "      <th>Q043</th>\n",
       "      <th>Q044</th>\n",
       "      <th>Q045</th>\n",
       "      <th>Q046</th>\n",
       "      <th>Q047</th>\n",
       "      <th>Q048</th>\n",
       "      <th>Q049</th>\n",
       "      <th>Q050</th>\n",
       "    </tr>\n",
       "  </thead>\n",
       "  <tbody>\n",
       "    <tr>\n",
       "      <th>0</th>\n",
       "      <td>1</td>\n",
       "      <td>ed50e8aaa58e7a806c337585efee9ca41f1eb1ad</td>\n",
       "      <td>2016</td>\n",
       "      <td>4314902</td>\n",
       "      <td>Porto Alegre</td>\n",
       "      <td>43</td>\n",
       "      <td>RS</td>\n",
       "      <td>24</td>\n",
       "      <td>M</td>\n",
       "      <td>0.0</td>\n",
       "      <td>...</td>\n",
       "      <td>5.0</td>\n",
       "      <td>A</td>\n",
       "      <td>A</td>\n",
       "      <td>A</td>\n",
       "      <td>A</td>\n",
       "      <td>A</td>\n",
       "      <td>A</td>\n",
       "      <td>A</td>\n",
       "      <td>B</td>\n",
       "      <td>D</td>\n",
       "    </tr>\n",
       "    <tr>\n",
       "      <th>1</th>\n",
       "      <td>2</td>\n",
       "      <td>2c3acac4b33ec2b195d77e7c04a2d75727fad723</td>\n",
       "      <td>2016</td>\n",
       "      <td>2304707</td>\n",
       "      <td>Granja</td>\n",
       "      <td>23</td>\n",
       "      <td>CE</td>\n",
       "      <td>17</td>\n",
       "      <td>F</td>\n",
       "      <td>0.0</td>\n",
       "      <td>...</td>\n",
       "      <td>NaN</td>\n",
       "      <td>A</td>\n",
       "      <td>A</td>\n",
       "      <td>C</td>\n",
       "      <td>A</td>\n",
       "      <td>B</td>\n",
       "      <td>A</td>\n",
       "      <td>A</td>\n",
       "      <td>C</td>\n",
       "      <td>A</td>\n",
       "    </tr>\n",
       "    <tr>\n",
       "      <th>2</th>\n",
       "      <td>3</td>\n",
       "      <td>f4545f8ccb9ff5c8aad7d32951b3f251a26e6568</td>\n",
       "      <td>2016</td>\n",
       "      <td>2304400</td>\n",
       "      <td>Fortaleza</td>\n",
       "      <td>23</td>\n",
       "      <td>CE</td>\n",
       "      <td>21</td>\n",
       "      <td>F</td>\n",
       "      <td>0.0</td>\n",
       "      <td>...</td>\n",
       "      <td>NaN</td>\n",
       "      <td>A</td>\n",
       "      <td>A</td>\n",
       "      <td>A</td>\n",
       "      <td>A</td>\n",
       "      <td>C</td>\n",
       "      <td>A</td>\n",
       "      <td>A</td>\n",
       "      <td>B</td>\n",
       "      <td>A</td>\n",
       "    </tr>\n",
       "  </tbody>\n",
       "</table>\n",
       "<p>3 rows × 167 columns</p>\n",
       "</div>"
      ],
      "text/plain": [
       "   Unnamed: 0                              NU_INSCRICAO  NU_ANO  \\\n",
       "0           1  ed50e8aaa58e7a806c337585efee9ca41f1eb1ad    2016   \n",
       "1           2  2c3acac4b33ec2b195d77e7c04a2d75727fad723    2016   \n",
       "2           3  f4545f8ccb9ff5c8aad7d32951b3f251a26e6568    2016   \n",
       "\n",
       "   CO_MUNICIPIO_RESIDENCIA NO_MUNICIPIO_RESIDENCIA  CO_UF_RESIDENCIA  \\\n",
       "0                  4314902            Porto Alegre                43   \n",
       "1                  2304707                  Granja                23   \n",
       "2                  2304400               Fortaleza                23   \n",
       "\n",
       "  SG_UF_RESIDENCIA  NU_IDADE TP_SEXO  TP_ESTADO_CIVIL  ...  Q041  Q042  Q043  \\\n",
       "0               RS        24       M              0.0  ...   5.0     A     A   \n",
       "1               CE        17       F              0.0  ...   NaN     A     A   \n",
       "2               CE        21       F              0.0  ...   NaN     A     A   \n",
       "\n",
       "  Q044  Q045 Q046  Q047  Q048  Q049  Q050  \n",
       "0    A     A    A     A     A     B     D  \n",
       "1    C     A    B     A     A     C     A  \n",
       "2    A     A    C     A     A     B     A  \n",
       "\n",
       "[3 rows x 167 columns]"
      ]
     },
     "execution_count": 4,
     "metadata": {},
     "output_type": "execute_result"
    }
   ],
   "source": [
    "# Visualização das primeiras linhas.\n",
    "df_train.head(3)"
   ]
  },
  {
   "cell_type": "code",
   "execution_count": 5,
   "metadata": {},
   "outputs": [
    {
     "data": {
      "text/html": [
       "<div>\n",
       "<style scoped>\n",
       "    .dataframe tbody tr th:only-of-type {\n",
       "        vertical-align: middle;\n",
       "    }\n",
       "\n",
       "    .dataframe tbody tr th {\n",
       "        vertical-align: top;\n",
       "    }\n",
       "\n",
       "    .dataframe thead th {\n",
       "        text-align: right;\n",
       "    }\n",
       "</style>\n",
       "<table border=\"1\" class=\"dataframe\">\n",
       "  <thead>\n",
       "    <tr style=\"text-align: right;\">\n",
       "      <th></th>\n",
       "      <th>NU_INSCRICAO</th>\n",
       "      <th>CO_UF_RESIDENCIA</th>\n",
       "      <th>SG_UF_RESIDENCIA</th>\n",
       "      <th>NU_IDADE</th>\n",
       "      <th>TP_SEXO</th>\n",
       "      <th>TP_COR_RACA</th>\n",
       "      <th>TP_NACIONALIDADE</th>\n",
       "      <th>TP_ST_CONCLUSAO</th>\n",
       "      <th>TP_ANO_CONCLUIU</th>\n",
       "      <th>TP_ESCOLA</th>\n",
       "      <th>...</th>\n",
       "      <th>NU_NOTA_COMP5</th>\n",
       "      <th>NU_NOTA_REDACAO</th>\n",
       "      <th>Q001</th>\n",
       "      <th>Q002</th>\n",
       "      <th>Q006</th>\n",
       "      <th>Q024</th>\n",
       "      <th>Q025</th>\n",
       "      <th>Q026</th>\n",
       "      <th>Q027</th>\n",
       "      <th>Q047</th>\n",
       "    </tr>\n",
       "  </thead>\n",
       "  <tbody>\n",
       "    <tr>\n",
       "      <th>0</th>\n",
       "      <td>ba0cc30ba34e7a46764c09dfc38ed83d15828897</td>\n",
       "      <td>43</td>\n",
       "      <td>RS</td>\n",
       "      <td>19</td>\n",
       "      <td>F</td>\n",
       "      <td>1</td>\n",
       "      <td>1</td>\n",
       "      <td>1</td>\n",
       "      <td>3</td>\n",
       "      <td>1</td>\n",
       "      <td>...</td>\n",
       "      <td>NaN</td>\n",
       "      <td>NaN</td>\n",
       "      <td>E</td>\n",
       "      <td>E</td>\n",
       "      <td>H</td>\n",
       "      <td>B</td>\n",
       "      <td>B</td>\n",
       "      <td>C</td>\n",
       "      <td>D</td>\n",
       "      <td>A</td>\n",
       "    </tr>\n",
       "    <tr>\n",
       "      <th>1</th>\n",
       "      <td>177f281c68fa032aedbd842a745da68490926cd2</td>\n",
       "      <td>15</td>\n",
       "      <td>PA</td>\n",
       "      <td>24</td>\n",
       "      <td>M</td>\n",
       "      <td>3</td>\n",
       "      <td>2</td>\n",
       "      <td>1</td>\n",
       "      <td>4</td>\n",
       "      <td>1</td>\n",
       "      <td>...</td>\n",
       "      <td>NaN</td>\n",
       "      <td>NaN</td>\n",
       "      <td>B</td>\n",
       "      <td>C</td>\n",
       "      <td>B</td>\n",
       "      <td>A</td>\n",
       "      <td>A</td>\n",
       "      <td>C</td>\n",
       "      <td>D</td>\n",
       "      <td>A</td>\n",
       "    </tr>\n",
       "    <tr>\n",
       "      <th>2</th>\n",
       "      <td>6cf0d8b97597d7625cdedc7bdb6c0f052286c334</td>\n",
       "      <td>29</td>\n",
       "      <td>BA</td>\n",
       "      <td>16</td>\n",
       "      <td>F</td>\n",
       "      <td>2</td>\n",
       "      <td>1</td>\n",
       "      <td>3</td>\n",
       "      <td>0</td>\n",
       "      <td>1</td>\n",
       "      <td>...</td>\n",
       "      <td>NaN</td>\n",
       "      <td>NaN</td>\n",
       "      <td>E</td>\n",
       "      <td>F</td>\n",
       "      <td>G</td>\n",
       "      <td>B</td>\n",
       "      <td>B</td>\n",
       "      <td>A</td>\n",
       "      <td>NaN</td>\n",
       "      <td>D</td>\n",
       "    </tr>\n",
       "  </tbody>\n",
       "</table>\n",
       "<p>3 rows × 43 columns</p>\n",
       "</div>"
      ],
      "text/plain": [
       "                               NU_INSCRICAO  CO_UF_RESIDENCIA  \\\n",
       "0  ba0cc30ba34e7a46764c09dfc38ed83d15828897                43   \n",
       "1  177f281c68fa032aedbd842a745da68490926cd2                15   \n",
       "2  6cf0d8b97597d7625cdedc7bdb6c0f052286c334                29   \n",
       "\n",
       "  SG_UF_RESIDENCIA  NU_IDADE TP_SEXO  TP_COR_RACA  TP_NACIONALIDADE  \\\n",
       "0               RS        19       F            1                 1   \n",
       "1               PA        24       M            3                 2   \n",
       "2               BA        16       F            2                 1   \n",
       "\n",
       "   TP_ST_CONCLUSAO  TP_ANO_CONCLUIU  TP_ESCOLA  ...  NU_NOTA_COMP5  \\\n",
       "0                1                3          1  ...            NaN   \n",
       "1                1                4          1  ...            NaN   \n",
       "2                3                0          1  ...            NaN   \n",
       "\n",
       "   NU_NOTA_REDACAO  Q001  Q002  Q006  Q024  Q025  Q026  Q027  Q047  \n",
       "0              NaN     E     E     H     B     B     C     D     A  \n",
       "1              NaN     B     C     B     A     A     C     D     A  \n",
       "2              NaN     E     F     G     B     B     A   NaN     D  \n",
       "\n",
       "[3 rows x 43 columns]"
      ]
     },
     "execution_count": 5,
     "metadata": {},
     "output_type": "execute_result"
    }
   ],
   "source": [
    "df_test.head(3)"
   ]
  },
  {
   "cell_type": "code",
   "execution_count": 6,
   "metadata": {},
   "outputs": [
    {
     "data": {
      "text/plain": [
       "124"
      ]
     },
     "execution_count": 6,
     "metadata": {},
     "output_type": "execute_result"
    }
   ],
   "source": [
    "df_train.shape[1] - df_test.shape[1]"
   ]
  },
  {
   "cell_type": "markdown",
   "metadata": {},
   "source": [
    "Com base nos dados observados, já é possível fazer uma primeira limpeza nos datasets:"
   ]
  },
  {
   "cell_type": "code",
   "execution_count": 7,
   "metadata": {},
   "outputs": [],
   "source": [
    "# Salvando uma cópia do dataset original.\n",
    "df_train_original = df_train.copy()\n",
    "df_test_original = df_test.copy()"
   ]
  },
  {
   "cell_type": "code",
   "execution_count": 8,
   "metadata": {},
   "outputs": [
    {
     "name": "stdout",
     "output_type": "stream",
     "text": [
      "Atualizando: \n",
      "Número de variáveis no dataset de treino: 44\n",
      "Número de variáveis no dataset de teste: 43\n"
     ]
    }
   ],
   "source": [
    "# Manter as variáveis do dataset de treino comuns ao dataset de teste.\n",
    "# Ainda, o dataset de treino manterá a variável \"IN_TREINEIRO\" (variável target).\n",
    "cols = list(set(df_train.columns).intersection(set(df_test.columns)))\n",
    "cols.append('IN_TREINEIRO')\n",
    "df_train = df_train[cols].copy()\n",
    "print(\"Atualizando: \\nNúmero de variáveis no dataset de treino: {}\".format(df_train.shape[1]))\n",
    "print(\"Número de variáveis no dataset de teste: {}\".format(df_test.shape[1]))"
   ]
  },
  {
   "cell_type": "code",
   "execution_count": 9,
   "metadata": {},
   "outputs": [
    {
     "data": {
      "text/plain": [
       "Index(['TP_ENSINO', 'IN_CEGUEIRA', 'IN_DISCALCULIA', 'IN_IDOSO', 'Q027',\n",
       "       'CO_UF_RESIDENCIA', 'TP_ST_CONCLUSAO', 'NU_IDADE', 'SG_UF_RESIDENCIA',\n",
       "       'IN_GESTANTE', 'TP_PRESENCA_CH', 'NU_NOTA_COMP2', 'Q026', 'Q024',\n",
       "       'Q047', 'NU_INSCRICAO', 'TP_ANO_CONCLUIU', 'Q002', 'IN_DISLEXIA',\n",
       "       'Q025', 'TP_PRESENCA_LC', 'TP_ESCOLA', 'IN_SURDEZ', 'TP_PRESENCA_MT',\n",
       "       'NU_NOTA_COMP1', 'NU_NOTA_LC', 'NU_NOTA_CH', 'NU_NOTA_COMP3',\n",
       "       'NU_NOTA_CN', 'TP_LINGUA', 'TP_STATUS_REDACAO', 'Q001',\n",
       "       'TP_PRESENCA_CN', 'TP_SEXO', 'TP_NACIONALIDADE', 'NU_NOTA_COMP4',\n",
       "       'Q006', 'TP_COR_RACA', 'NU_NOTA_COMP5', 'TP_DEPENDENCIA_ADM_ESC',\n",
       "       'NU_NOTA_REDACAO', 'IN_SABATISTA', 'IN_BAIXA_VISAO', 'IN_TREINEIRO'],\n",
       "      dtype='object')"
      ]
     },
     "execution_count": 9,
     "metadata": {},
     "output_type": "execute_result"
    }
   ],
   "source": [
    "# Olhando para as variáveis que restaram.\n",
    "df_train.columns"
   ]
  },
  {
   "cell_type": "code",
   "execution_count": 10,
   "metadata": {},
   "outputs": [
    {
     "name": "stdout",
     "output_type": "stream",
     "text": [
      "Atualizando: \n",
      "Número de variáveis no dataset de treino: 42\n",
      "Número de variáveis no dataset de teste: 41\n"
     ]
    }
   ],
   "source": [
    "# Deletar as variáveis que representam códigos:\n",
    "df_train = df_train.drop(['CO_UF_RESIDENCIA', 'NU_INSCRICAO'], axis = 1)\n",
    "df_test = df_test.drop(['CO_UF_RESIDENCIA', 'NU_INSCRICAO'], axis = 1)\n",
    "print(\"Atualizando: \\nNúmero de variáveis no dataset de treino: {}\".format(df_train.shape[1]))\n",
    "print(\"Número de variáveis no dataset de teste: {}\".format(df_test.shape[1]))"
   ]
  },
  {
   "cell_type": "markdown",
   "metadata": {},
   "source": [
    "###### Analisando o balanceamentos das classes da variável target:"
   ]
  },
  {
   "cell_type": "markdown",
   "metadata": {},
   "source": [
    "De acordo com o dicionário dos dados, IN_TREINEIRO = 1 indica que o aluno se inscreveu para essa condição e, o contrário quando IN_TREINEIRO = 0."
   ]
  },
  {
   "cell_type": "code",
   "execution_count": 11,
   "metadata": {},
   "outputs": [
    {
     "data": {
      "text/plain": [
       "IN_TREINEIRO\n",
       "0    11947\n",
       "1     1783\n",
       "dtype: int64"
      ]
     },
     "execution_count": 11,
     "metadata": {},
     "output_type": "execute_result"
    }
   ],
   "source": [
    "df_train.groupby('IN_TREINEIRO').size()"
   ]
  },
  {
   "cell_type": "code",
   "execution_count": 12,
   "metadata": {},
   "outputs": [
    {
     "name": "stdout",
     "output_type": "stream",
     "text": [
      "Porcentagem de alunos treineiros: 13.0 %\n",
      "Porcentagem de alunos não treineiros: 87.0 %\n"
     ]
    }
   ],
   "source": [
    "print(\"Porcentagem de alunos treineiros: {} %\".format(round(df_train[df_train[\"IN_TREINEIRO\"]==1].shape[0]/df_train.shape[0],2)*100))\n",
    "print(\"Porcentagem de alunos não treineiros: {} %\".format(round(df_train[df_train[\"IN_TREINEIRO\"]==0].shape[0]/df_train.shape[0],2)*100))"
   ]
  },
  {
   "cell_type": "code",
   "execution_count": 13,
   "metadata": {},
   "outputs": [
    {
     "data": {
      "text/plain": [
       "<matplotlib.axes._subplots.AxesSubplot at 0x7fcae289bfd0>"
      ]
     },
     "execution_count": 13,
     "metadata": {},
     "output_type": "execute_result"
    },
    {
     "data": {
      "image/png": "[encoded data removed]",
      "text/plain": [
       "<Figure size 432x288 with 1 Axes>"
      ]
     },
     "metadata": {
      "needs_background": "light"
     },
     "output_type": "display_data"
    }
   ],
   "source": [
    "sns.countplot(df_train.IN_TREINEIRO, palette = sns.color_palette(\"ch:2.5,-.2,dark=.3\"))"
   ]
  },
  {
   "cell_type": "markdown",
   "metadata": {},
   "source": [
    "Aqui percebe-se que as classes da variável target estão desbalanceadas - há uma predominâcia de estudantes não treineiros (87%) e isso pode fazer com que o modelo preditivo aprenda muito sobre essa classe e não consiga fazer boas previsões sobre a classe dos estudantes que se inscreveram para treino. Portanto, ao processar os dados, usarei técnicas para o balanceamento dessa classe."
   ]
  },
  {
   "cell_type": "markdown",
   "metadata": {},
   "source": [
    "###### Analisando os dados faltantes"
   ]
  },
  {
   "cell_type": "code",
   "execution_count": 14,
   "metadata": {},
   "outputs": [],
   "source": [
    "df_missing = pd.DataFrame({'Missing_values': round((df_train.isna().sum()/df_train.shape[0])*100,2)})"
   ]
  },
  {
   "cell_type": "code",
   "execution_count": 15,
   "metadata": {},
   "outputs": [
    {
     "data": {
      "text/html": [
       "<div>\n",
       "<style scoped>\n",
       "    .dataframe tbody tr th:only-of-type {\n",
       "        vertical-align: middle;\n",
       "    }\n",
       "\n",
       "    .dataframe tbody tr th {\n",
       "        vertical-align: top;\n",
       "    }\n",
       "\n",
       "    .dataframe thead th {\n",
       "        text-align: right;\n",
       "    }\n",
       "</style>\n",
       "<table border=\"1\" class=\"dataframe\">\n",
       "  <thead>\n",
       "    <tr style=\"text-align: right;\">\n",
       "      <th></th>\n",
       "      <th>Missing_values</th>\n",
       "    </tr>\n",
       "  </thead>\n",
       "  <tbody>\n",
       "    <tr>\n",
       "      <th>TP_ENSINO</th>\n",
       "      <td>68.81</td>\n",
       "    </tr>\n",
       "    <tr>\n",
       "      <th>Q027</th>\n",
       "      <td>53.70</td>\n",
       "    </tr>\n",
       "    <tr>\n",
       "      <th>NU_NOTA_COMP2</th>\n",
       "      <td>26.20</td>\n",
       "    </tr>\n",
       "    <tr>\n",
       "      <th>NU_NOTA_COMP1</th>\n",
       "      <td>26.20</td>\n",
       "    </tr>\n",
       "    <tr>\n",
       "      <th>NU_NOTA_LC</th>\n",
       "      <td>26.20</td>\n",
       "    </tr>\n",
       "    <tr>\n",
       "      <th>NU_NOTA_CH</th>\n",
       "      <td>24.68</td>\n",
       "    </tr>\n",
       "    <tr>\n",
       "      <th>NU_NOTA_COMP3</th>\n",
       "      <td>26.20</td>\n",
       "    </tr>\n",
       "    <tr>\n",
       "      <th>NU_NOTA_CN</th>\n",
       "      <td>24.68</td>\n",
       "    </tr>\n",
       "    <tr>\n",
       "      <th>TP_STATUS_REDACAO</th>\n",
       "      <td>26.20</td>\n",
       "    </tr>\n",
       "    <tr>\n",
       "      <th>NU_NOTA_COMP4</th>\n",
       "      <td>26.20</td>\n",
       "    </tr>\n",
       "    <tr>\n",
       "      <th>NU_NOTA_COMP5</th>\n",
       "      <td>26.20</td>\n",
       "    </tr>\n",
       "    <tr>\n",
       "      <th>TP_DEPENDENCIA_ADM_ESC</th>\n",
       "      <td>68.81</td>\n",
       "    </tr>\n",
       "    <tr>\n",
       "      <th>NU_NOTA_REDACAO</th>\n",
       "      <td>26.20</td>\n",
       "    </tr>\n",
       "  </tbody>\n",
       "</table>\n",
       "</div>"
      ],
      "text/plain": [
       "                        Missing_values\n",
       "TP_ENSINO                        68.81\n",
       "Q027                             53.70\n",
       "NU_NOTA_COMP2                    26.20\n",
       "NU_NOTA_COMP1                    26.20\n",
       "NU_NOTA_LC                       26.20\n",
       "NU_NOTA_CH                       24.68\n",
       "NU_NOTA_COMP3                    26.20\n",
       "NU_NOTA_CN                       24.68\n",
       "TP_STATUS_REDACAO                26.20\n",
       "NU_NOTA_COMP4                    26.20\n",
       "NU_NOTA_COMP5                    26.20\n",
       "TP_DEPENDENCIA_ADM_ESC           68.81\n",
       "NU_NOTA_REDACAO                  26.20"
      ]
     },
     "execution_count": 15,
     "metadata": {},
     "output_type": "execute_result"
    }
   ],
   "source": [
    "# Variáveis com dados ausentes.\n",
    "df_missing[df_missing['Missing_values']>0]"
   ]
  },
  {
   "cell_type": "code",
   "execution_count": 16,
   "metadata": {},
   "outputs": [
    {
     "data": {
      "text/html": [
       "<div>\n",
       "<style scoped>\n",
       "    .dataframe tbody tr th:only-of-type {\n",
       "        vertical-align: middle;\n",
       "    }\n",
       "\n",
       "    .dataframe tbody tr th {\n",
       "        vertical-align: top;\n",
       "    }\n",
       "\n",
       "    .dataframe thead th {\n",
       "        text-align: right;\n",
       "    }\n",
       "</style>\n",
       "<table border=\"1\" class=\"dataframe\">\n",
       "  <thead>\n",
       "    <tr style=\"text-align: right;\">\n",
       "      <th></th>\n",
       "      <th>Missing_values</th>\n",
       "    </tr>\n",
       "  </thead>\n",
       "  <tbody>\n",
       "    <tr>\n",
       "      <th>TP_ENSINO</th>\n",
       "      <td>68.81</td>\n",
       "    </tr>\n",
       "    <tr>\n",
       "      <th>Q027</th>\n",
       "      <td>53.70</td>\n",
       "    </tr>\n",
       "    <tr>\n",
       "      <th>TP_DEPENDENCIA_ADM_ESC</th>\n",
       "      <td>68.81</td>\n",
       "    </tr>\n",
       "  </tbody>\n",
       "</table>\n",
       "</div>"
      ],
      "text/plain": [
       "                        Missing_values\n",
       "TP_ENSINO                        68.81\n",
       "Q027                             53.70\n",
       "TP_DEPENDENCIA_ADM_ESC           68.81"
      ]
     },
     "execution_count": 16,
     "metadata": {},
     "output_type": "execute_result"
    }
   ],
   "source": [
    "# Variáveis com mais de 50% de dados ausentes.\n",
    "df_missing[df_missing['Missing_values']>50]"
   ]
  },
  {
   "cell_type": "markdown",
   "metadata": {},
   "source": [
    "#### Tipos dos dados"
   ]
  },
  {
   "cell_type": "markdown",
   "metadata": {},
   "source": [
    "Aqui podemos visualizar a natureza das variáveis intepretada pelo Python."
   ]
  },
  {
   "cell_type": "code",
   "execution_count": 17,
   "metadata": {},
   "outputs": [],
   "source": [
    "df_types = pd.DataFrame({'data_type': df_train.dtypes})"
   ]
  },
  {
   "cell_type": "code",
   "execution_count": 18,
   "metadata": {},
   "outputs": [
    {
     "data": {
      "text/html": [
       "<div>\n",
       "<style scoped>\n",
       "    .dataframe tbody tr th:only-of-type {\n",
       "        vertical-align: middle;\n",
       "    }\n",
       "\n",
       "    .dataframe tbody tr th {\n",
       "        vertical-align: top;\n",
       "    }\n",
       "\n",
       "    .dataframe thead th {\n",
       "        text-align: right;\n",
       "    }\n",
       "</style>\n",
       "<table border=\"1\" class=\"dataframe\">\n",
       "  <thead>\n",
       "    <tr style=\"text-align: right;\">\n",
       "      <th></th>\n",
       "      <th>data_type</th>\n",
       "    </tr>\n",
       "  </thead>\n",
       "  <tbody>\n",
       "    <tr>\n",
       "      <th>TP_ENSINO</th>\n",
       "      <td>float64</td>\n",
       "    </tr>\n",
       "    <tr>\n",
       "      <th>NU_NOTA_COMP2</th>\n",
       "      <td>float64</td>\n",
       "    </tr>\n",
       "    <tr>\n",
       "      <th>NU_NOTA_COMP1</th>\n",
       "      <td>float64</td>\n",
       "    </tr>\n",
       "    <tr>\n",
       "      <th>NU_NOTA_LC</th>\n",
       "      <td>float64</td>\n",
       "    </tr>\n",
       "    <tr>\n",
       "      <th>NU_NOTA_CH</th>\n",
       "      <td>float64</td>\n",
       "    </tr>\n",
       "    <tr>\n",
       "      <th>NU_NOTA_COMP3</th>\n",
       "      <td>float64</td>\n",
       "    </tr>\n",
       "    <tr>\n",
       "      <th>NU_NOTA_CN</th>\n",
       "      <td>float64</td>\n",
       "    </tr>\n",
       "    <tr>\n",
       "      <th>TP_STATUS_REDACAO</th>\n",
       "      <td>float64</td>\n",
       "    </tr>\n",
       "    <tr>\n",
       "      <th>NU_NOTA_COMP4</th>\n",
       "      <td>float64</td>\n",
       "    </tr>\n",
       "    <tr>\n",
       "      <th>NU_NOTA_COMP5</th>\n",
       "      <td>float64</td>\n",
       "    </tr>\n",
       "    <tr>\n",
       "      <th>TP_DEPENDENCIA_ADM_ESC</th>\n",
       "      <td>float64</td>\n",
       "    </tr>\n",
       "    <tr>\n",
       "      <th>NU_NOTA_REDACAO</th>\n",
       "      <td>float64</td>\n",
       "    </tr>\n",
       "  </tbody>\n",
       "</table>\n",
       "</div>"
      ],
      "text/plain": [
       "                       data_type\n",
       "TP_ENSINO                float64\n",
       "NU_NOTA_COMP2            float64\n",
       "NU_NOTA_COMP1            float64\n",
       "NU_NOTA_LC               float64\n",
       "NU_NOTA_CH               float64\n",
       "NU_NOTA_COMP3            float64\n",
       "NU_NOTA_CN               float64\n",
       "TP_STATUS_REDACAO        float64\n",
       "NU_NOTA_COMP4            float64\n",
       "NU_NOTA_COMP5            float64\n",
       "TP_DEPENDENCIA_ADM_ESC   float64\n",
       "NU_NOTA_REDACAO          float64"
      ]
     },
     "execution_count": 18,
     "metadata": {},
     "output_type": "execute_result"
    }
   ],
   "source": [
    "# Variáveis do tipo float.\n",
    "df_types[df_types['data_type']=='float64']"
   ]
  },
  {
   "cell_type": "code",
   "execution_count": 19,
   "metadata": {},
   "outputs": [
    {
     "data": {
      "text/html": [
       "<div>\n",
       "<style scoped>\n",
       "    .dataframe tbody tr th:only-of-type {\n",
       "        vertical-align: middle;\n",
       "    }\n",
       "\n",
       "    .dataframe tbody tr th {\n",
       "        vertical-align: top;\n",
       "    }\n",
       "\n",
       "    .dataframe thead th {\n",
       "        text-align: right;\n",
       "    }\n",
       "</style>\n",
       "<table border=\"1\" class=\"dataframe\">\n",
       "  <thead>\n",
       "    <tr style=\"text-align: right;\">\n",
       "      <th></th>\n",
       "      <th>data_type</th>\n",
       "    </tr>\n",
       "  </thead>\n",
       "  <tbody>\n",
       "    <tr>\n",
       "      <th>IN_CEGUEIRA</th>\n",
       "      <td>int64</td>\n",
       "    </tr>\n",
       "    <tr>\n",
       "      <th>IN_DISCALCULIA</th>\n",
       "      <td>int64</td>\n",
       "    </tr>\n",
       "    <tr>\n",
       "      <th>IN_IDOSO</th>\n",
       "      <td>int64</td>\n",
       "    </tr>\n",
       "    <tr>\n",
       "      <th>TP_ST_CONCLUSAO</th>\n",
       "      <td>int64</td>\n",
       "    </tr>\n",
       "    <tr>\n",
       "      <th>NU_IDADE</th>\n",
       "      <td>int64</td>\n",
       "    </tr>\n",
       "    <tr>\n",
       "      <th>IN_GESTANTE</th>\n",
       "      <td>int64</td>\n",
       "    </tr>\n",
       "    <tr>\n",
       "      <th>TP_PRESENCA_CH</th>\n",
       "      <td>int64</td>\n",
       "    </tr>\n",
       "    <tr>\n",
       "      <th>TP_ANO_CONCLUIU</th>\n",
       "      <td>int64</td>\n",
       "    </tr>\n",
       "    <tr>\n",
       "      <th>IN_DISLEXIA</th>\n",
       "      <td>int64</td>\n",
       "    </tr>\n",
       "    <tr>\n",
       "      <th>TP_PRESENCA_LC</th>\n",
       "      <td>int64</td>\n",
       "    </tr>\n",
       "    <tr>\n",
       "      <th>TP_ESCOLA</th>\n",
       "      <td>int64</td>\n",
       "    </tr>\n",
       "    <tr>\n",
       "      <th>IN_SURDEZ</th>\n",
       "      <td>int64</td>\n",
       "    </tr>\n",
       "    <tr>\n",
       "      <th>TP_PRESENCA_MT</th>\n",
       "      <td>int64</td>\n",
       "    </tr>\n",
       "    <tr>\n",
       "      <th>TP_LINGUA</th>\n",
       "      <td>int64</td>\n",
       "    </tr>\n",
       "    <tr>\n",
       "      <th>TP_PRESENCA_CN</th>\n",
       "      <td>int64</td>\n",
       "    </tr>\n",
       "    <tr>\n",
       "      <th>TP_NACIONALIDADE</th>\n",
       "      <td>int64</td>\n",
       "    </tr>\n",
       "    <tr>\n",
       "      <th>TP_COR_RACA</th>\n",
       "      <td>int64</td>\n",
       "    </tr>\n",
       "    <tr>\n",
       "      <th>IN_SABATISTA</th>\n",
       "      <td>int64</td>\n",
       "    </tr>\n",
       "    <tr>\n",
       "      <th>IN_BAIXA_VISAO</th>\n",
       "      <td>int64</td>\n",
       "    </tr>\n",
       "    <tr>\n",
       "      <th>IN_TREINEIRO</th>\n",
       "      <td>int64</td>\n",
       "    </tr>\n",
       "  </tbody>\n",
       "</table>\n",
       "</div>"
      ],
      "text/plain": [
       "                 data_type\n",
       "IN_CEGUEIRA          int64\n",
       "IN_DISCALCULIA       int64\n",
       "IN_IDOSO             int64\n",
       "TP_ST_CONCLUSAO      int64\n",
       "NU_IDADE             int64\n",
       "IN_GESTANTE          int64\n",
       "TP_PRESENCA_CH       int64\n",
       "TP_ANO_CONCLUIU      int64\n",
       "IN_DISLEXIA          int64\n",
       "TP_PRESENCA_LC       int64\n",
       "TP_ESCOLA            int64\n",
       "IN_SURDEZ            int64\n",
       "TP_PRESENCA_MT       int64\n",
       "TP_LINGUA            int64\n",
       "TP_PRESENCA_CN       int64\n",
       "TP_NACIONALIDADE     int64\n",
       "TP_COR_RACA          int64\n",
       "IN_SABATISTA         int64\n",
       "IN_BAIXA_VISAO       int64\n",
       "IN_TREINEIRO         int64"
      ]
     },
     "execution_count": 19,
     "metadata": {},
     "output_type": "execute_result"
    }
   ],
   "source": [
    "# Variáveis do tipo inteiro.\n",
    "df_types[df_types['data_type']=='int']"
   ]
  },
  {
   "cell_type": "code",
   "execution_count": 20,
   "metadata": {},
   "outputs": [
    {
     "data": {
      "text/html": [
       "<div>\n",
       "<style scoped>\n",
       "    .dataframe tbody tr th:only-of-type {\n",
       "        vertical-align: middle;\n",
       "    }\n",
       "\n",
       "    .dataframe tbody tr th {\n",
       "        vertical-align: top;\n",
       "    }\n",
       "\n",
       "    .dataframe thead th {\n",
       "        text-align: right;\n",
       "    }\n",
       "</style>\n",
       "<table border=\"1\" class=\"dataframe\">\n",
       "  <thead>\n",
       "    <tr style=\"text-align: right;\">\n",
       "      <th></th>\n",
       "      <th>data_type</th>\n",
       "    </tr>\n",
       "  </thead>\n",
       "  <tbody>\n",
       "    <tr>\n",
       "      <th>Q027</th>\n",
       "      <td>object</td>\n",
       "    </tr>\n",
       "    <tr>\n",
       "      <th>SG_UF_RESIDENCIA</th>\n",
       "      <td>object</td>\n",
       "    </tr>\n",
       "    <tr>\n",
       "      <th>Q026</th>\n",
       "      <td>object</td>\n",
       "    </tr>\n",
       "    <tr>\n",
       "      <th>Q024</th>\n",
       "      <td>object</td>\n",
       "    </tr>\n",
       "    <tr>\n",
       "      <th>Q047</th>\n",
       "      <td>object</td>\n",
       "    </tr>\n",
       "    <tr>\n",
       "      <th>Q002</th>\n",
       "      <td>object</td>\n",
       "    </tr>\n",
       "    <tr>\n",
       "      <th>Q025</th>\n",
       "      <td>object</td>\n",
       "    </tr>\n",
       "    <tr>\n",
       "      <th>Q001</th>\n",
       "      <td>object</td>\n",
       "    </tr>\n",
       "    <tr>\n",
       "      <th>TP_SEXO</th>\n",
       "      <td>object</td>\n",
       "    </tr>\n",
       "    <tr>\n",
       "      <th>Q006</th>\n",
       "      <td>object</td>\n",
       "    </tr>\n",
       "  </tbody>\n",
       "</table>\n",
       "</div>"
      ],
      "text/plain": [
       "                 data_type\n",
       "Q027                object\n",
       "SG_UF_RESIDENCIA    object\n",
       "Q026                object\n",
       "Q024                object\n",
       "Q047                object\n",
       "Q002                object\n",
       "Q025                object\n",
       "Q001                object\n",
       "TP_SEXO             object\n",
       "Q006                object"
      ]
     },
     "execution_count": 20,
     "metadata": {},
     "output_type": "execute_result"
    }
   ],
   "source": [
    "# Variáveis do tipo object.\n",
    "df_types[df_types['data_type']=='object']"
   ]
  },
  {
   "cell_type": "markdown",
   "metadata": {},
   "source": [
    "Pode acontecer de algumas variáveis não estarem classificadas adequadamente, mas esse método (dtypes) já nos dá uma breve noção do tipo dos dados."
   ]
  },
  {
   "cell_type": "markdown",
   "metadata": {},
   "source": [
    "### Preparação dos dados"
   ]
  },
  {
   "cell_type": "markdown",
   "metadata": {},
   "source": [
    "###### Tratando os valores ausentes"
   ]
  },
  {
   "cell_type": "markdown",
   "metadata": {},
   "source": [
    "Aqui decido por remover as variáveis com mais de 50% de valores ausentes e as demais decido por preenchê-las com \"-1\"."
   ]
  },
  {
   "cell_type": "code",
   "execution_count": 21,
   "metadata": {},
   "outputs": [
    {
     "name": "stdout",
     "output_type": "stream",
     "text": [
      "Atualizando: \n",
      "Número de variáveis no dataset de treino: 39\n",
      "Número de variáveis no dataset de treino: 38\n"
     ]
    }
   ],
   "source": [
    "# Remoção das variáveis com mais de 50% de dados faltantes\n",
    "var = df_missing[df_missing['Missing_values']>50].index.to_list()\n",
    "\n",
    "df_train.drop(columns= var, inplace=True)\n",
    "df_test.drop(columns= var, inplace=True)\n",
    "\n",
    "print(\"Atualizando: \\nNúmero de variáveis no dataset de treino: {}\".format(df_train.shape[1]))\n",
    "print(\"Número de variáveis no dataset de treino: {}\".format(df_test.shape[1]))"
   ]
  },
  {
   "cell_type": "code",
   "execution_count": 22,
   "metadata": {},
   "outputs": [],
   "source": [
    "# Preenchendo os demais valores faltantes com (-1).\n",
    "df_train.fillna(-1, inplace=True)\n",
    "df_test.fillna(-1, inplace=True)"
   ]
  },
  {
   "cell_type": "code",
   "execution_count": 23,
   "metadata": {},
   "outputs": [
    {
     "name": "stdout",
     "output_type": "stream",
     "text": [
      "Valores vazios no dados de Treino: 0\n",
      "Valores vazios no dados de Teste: 0\n"
     ]
    }
   ],
   "source": [
    "# Verificando se ainda há valores ausentes.\n",
    "print(f\"Valores vazios no dados de Treino: {df_train.isna().sum().sum()}\")\n",
    "print(f\"Valores vazios no dados de Teste: {df_test.isna().sum().sum()}\")"
   ]
  },
  {
   "cell_type": "markdown",
   "metadata": {},
   "source": [
    "##### Definição das variáveis preditoras e da variável target"
   ]
  },
  {
   "cell_type": "code",
   "execution_count": 24,
   "metadata": {},
   "outputs": [],
   "source": [
    "# Dados de entrada e saída\n",
    "features = df_train.drop(columns=\"IN_TREINEIRO\").columns.to_list()\n",
    "target = ['IN_TREINEIRO']"
   ]
  },
  {
   "cell_type": "markdown",
   "metadata": {},
   "source": [
    "###### Codificar as variáveis categóricas"
   ]
  },
  {
   "cell_type": "code",
   "execution_count": 25,
   "metadata": {},
   "outputs": [],
   "source": [
    "# Separando as features categóricas e numéricas.\n",
    "cat_initials = [\"CO\", \"SG\", \"TP\", \"IN\", \"Q0\"]\n",
    "\n",
    "cat_features = [i for i in df_train[features].columns if i[:2] in cat_initials]\n",
    "\n",
    "num_features = df_train[features].columns.drop(cat_features)"
   ]
  },
  {
   "cell_type": "code",
   "execution_count": 26,
   "metadata": {},
   "outputs": [],
   "source": [
    "# Codificar as variáveis categóricas.\n",
    "\n",
    "# One Hot Encoder\n",
    "ohe = OneHotEncoder(sparse=False, handle_unknown='ignore', dtype=np.int)\n",
    "\n",
    "#Treinamento.\n",
    "ohe.fit(df_train[cat_features])\n",
    "\n",
    "# Codificando o dataset de treino.\n",
    "df_train_encoded = ohe.transform(df_train[cat_features])\n",
    "df_train_encoded = pd.DataFrame(df_train_encoded, columns=ohe.get_feature_names(cat_features))\n",
    "df_train_encoded = pd.concat([df_train_encoded, df_train[num_features].reset_index(drop=True)], axis=1)\n",
    "\n",
    "# Codificando o dataset de teste.\n",
    "df_test_encoded = ohe.transform(df_test[cat_features])\n",
    "df_test_encoded = pd.DataFrame(df_test_encoded, columns=ohe.get_feature_names(cat_features))\n",
    "df_test_encoded = pd.concat([df_test_encoded, df_test[num_features].reset_index(drop=True)], axis=1)"
   ]
  },
  {
   "cell_type": "code",
   "execution_count": 27,
   "metadata": {},
   "outputs": [
    {
     "data": {
      "text/plain": [
       "(13730, 156)"
      ]
     },
     "execution_count": 27,
     "metadata": {},
     "output_type": "execute_result"
    }
   ],
   "source": [
    "df_train_encoded.shape"
   ]
  },
  {
   "cell_type": "markdown",
   "metadata": {},
   "source": [
    "###### Balanceando a variável target"
   ]
  },
  {
   "cell_type": "markdown",
   "metadata": {},
   "source": [
    "Aqui eu decido fazer o balanceamento pela técnica **oversampling**: criação de dados sintéticos da classe minoritária. Assim, eu evito de perder dados ao fazer o balanceamento."
   ]
  },
  {
   "cell_type": "code",
   "execution_count": 28,
   "metadata": {},
   "outputs": [],
   "source": [
    "import imblearn"
   ]
  },
  {
   "cell_type": "code",
   "execution_count": 29,
   "metadata": {},
   "outputs": [],
   "source": [
    "# Atualizando as features.\n",
    "features_new = df_train_encoded.columns.to_list()"
   ]
  },
  {
   "cell_type": "code",
   "execution_count": 30,
   "metadata": {},
   "outputs": [
    {
     "data": {
      "text/plain": [
       "(13730, 156)"
      ]
     },
     "execution_count": 30,
     "metadata": {},
     "output_type": "execute_result"
    }
   ],
   "source": [
    "# Dimensão do dataset antes do oversampling\n",
    "df_train_encoded.shape"
   ]
  },
  {
   "cell_type": "code",
   "execution_count": 31,
   "metadata": {},
   "outputs": [],
   "source": [
    "# Balanceador SMOTE\n",
    "# Aqui escolho sampling_strategy=\"minority\" para a criação de dados sintéticos para a classe minoritária (oversampling)\n",
    "smote_bal = SMOTE(sampling_strategy=\"minority\")\n",
    "\n",
    "# Aplicando o balanceador\n",
    "features_train_balanced, target_balanced = smote_bal.fit_resample(df_train_encoded, df_train[target])"
   ]
  },
  {
   "cell_type": "code",
   "execution_count": 32,
   "metadata": {},
   "outputs": [
    {
     "data": {
      "text/plain": [
       "(23894, 156)"
      ]
     },
     "execution_count": 32,
     "metadata": {},
     "output_type": "execute_result"
    }
   ],
   "source": [
    "# Dimensão do dataset depois do oversampling\n",
    "features_train_balanced.shape"
   ]
  },
  {
   "cell_type": "markdown",
   "metadata": {},
   "source": [
    "#### Modelo Preditivo"
   ]
  },
  {
   "cell_type": "markdown",
   "metadata": {},
   "source": [
    "##### Criar uma amostra para validação do modelo"
   ]
  },
  {
   "cell_type": "code",
   "execution_count": 33,
   "metadata": {},
   "outputs": [],
   "source": [
    "X_train, X_test, y_train, y_test = train_test_split(features_train_balanced, target_balanced, test_size=0.20)"
   ]
  },
  {
   "cell_type": "code",
   "execution_count": 34,
   "metadata": {},
   "outputs": [],
   "source": [
    "# Criando o modelo.\n",
    "classifier = RandomForestClassifier()\n",
    "# Treinamento do modelo.\n",
    "classifier.fit(X_train, y_train)\n",
    "# Predições para a avaliação do modelo.\n",
    "predict_validation = classifier.predict(X_test)"
   ]
  },
  {
   "cell_type": "markdown",
   "metadata": {},
   "source": [
    "##### Avaliação do modelo"
   ]
  },
  {
   "cell_type": "code",
   "execution_count": 35,
   "metadata": {},
   "outputs": [
    {
     "name": "stdout",
     "output_type": "stream",
     "text": [
      "Cross-Validation: 99.64%\n",
      "Acurácia: 99.77%\n"
     ]
    }
   ],
   "source": [
    "# Cross Validation\n",
    "cross_val = cross_val_score(classifier, X_test, y_test)\n",
    "print(\"Cross-Validation: %.2f%%\" % (cross_val.mean() * 100))\n",
    "\n",
    "accuracy = accuracy_score(y_test, predict_validation)\n",
    "print(\"Acurácia: %.2f%%\" % (accuracy * 100.0))"
   ]
  },
  {
   "cell_type": "markdown",
   "metadata": {},
   "source": [
    "O modelo apresentou uma boa performance com os dados que usei para avliá-lo, posso então usá-lo para fazer previsões sobre os alunos do dataset de teste."
   ]
  },
  {
   "cell_type": "markdown",
   "metadata": {},
   "source": [
    "#### Resposta final"
   ]
  },
  {
   "cell_type": "code",
   "execution_count": 36,
   "metadata": {},
   "outputs": [],
   "source": [
    "# Predições.\n",
    "predictions = classifier.predict(df_test_encoded)"
   ]
  },
  {
   "cell_type": "code",
   "execution_count": 37,
   "metadata": {},
   "outputs": [],
   "source": [
    "# Computando a resposta.\n",
    "df_answer = pd.DataFrame({\"NU_INSCRICAO\": df_test_original[\"NU_INSCRICAO\"], \"IN_TREINEIRO\": predictions})\n",
    "answer = df_answer.set_index(\"NU_INSCRICAO\")"
   ]
  },
  {
   "cell_type": "code",
   "execution_count": 38,
   "metadata": {},
   "outputs": [
    {
     "data": {
      "text/html": [
       "<div>\n",
       "<style scoped>\n",
       "    .dataframe tbody tr th:only-of-type {\n",
       "        vertical-align: middle;\n",
       "    }\n",
       "\n",
       "    .dataframe tbody tr th {\n",
       "        vertical-align: top;\n",
       "    }\n",
       "\n",
       "    .dataframe thead th {\n",
       "        text-align: right;\n",
       "    }\n",
       "</style>\n",
       "<table border=\"1\" class=\"dataframe\">\n",
       "  <thead>\n",
       "    <tr style=\"text-align: right;\">\n",
       "      <th></th>\n",
       "      <th>IN_TREINEIRO</th>\n",
       "    </tr>\n",
       "    <tr>\n",
       "      <th>NU_INSCRICAO</th>\n",
       "      <th></th>\n",
       "    </tr>\n",
       "  </thead>\n",
       "  <tbody>\n",
       "    <tr>\n",
       "      <th>ba0cc30ba34e7a46764c09dfc38ed83d15828897</th>\n",
       "      <td>0</td>\n",
       "    </tr>\n",
       "    <tr>\n",
       "      <th>177f281c68fa032aedbd842a745da68490926cd2</th>\n",
       "      <td>0</td>\n",
       "    </tr>\n",
       "    <tr>\n",
       "      <th>6cf0d8b97597d7625cdedc7bdb6c0f052286c334</th>\n",
       "      <td>1</td>\n",
       "    </tr>\n",
       "  </tbody>\n",
       "</table>\n",
       "</div>"
      ],
      "text/plain": [
       "                                          IN_TREINEIRO\n",
       "NU_INSCRICAO                                          \n",
       "ba0cc30ba34e7a46764c09dfc38ed83d15828897             0\n",
       "177f281c68fa032aedbd842a745da68490926cd2             0\n",
       "6cf0d8b97597d7625cdedc7bdb6c0f052286c334             1"
      ]
     },
     "execution_count": 38,
     "metadata": {},
     "output_type": "execute_result"
    }
   ],
   "source": [
    "answer.head(3)"
   ]
  },
  {
   "cell_type": "code",
   "execution_count": 39,
   "metadata": {},
   "outputs": [],
   "source": [
    "# Salvando o arquivo.\n",
    "answer.to_csv(\"answer.csv\")"
   ]
  },
  {
   "cell_type": "markdown",
   "metadata": {},
   "source": [
    "### O score atingido na sumbissão foi 99.76%"
   ]
  }
 ],
 "metadata": {
  "kernelspec": {
   "display_name": "Python 3",
   "language": "python",
   "name": "python3"
  },
  "language_info": {
   "codemirror_mode": {
    "name": "ipython",
    "version": 3
   },
   "file_extension": ".py",
   "mimetype": "text/x-python",
   "name": "python",
   "nbconvert_exporter": "python",
   "pygments_lexer": "ipython3",
   "version": "3.7.3"
  }
 },
 "nbformat": 4,
 "nbformat_minor": 2
}
